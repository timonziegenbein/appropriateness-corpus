{
 "cells": [
  {
   "cell_type": "markdown",
   "id": "cf00d1e7-6fd9-4a23-a7d1-2eaf0c81b39a",
   "metadata": {},
   "source": [
    "### This file computes the correlation metrics of the appropriateness corpus and the dagstuhl corpus (table 2 in the paper)"
   ]
  },
  {
   "cell_type": "code",
   "execution_count": null,
   "id": "49f84412-5c6c-4a3e-abc1-f4137a7de36d",
   "metadata": {},
   "outputs": [],
   "source": [
    "import pandas as pd\n",
    "from quica.quica import Quica\n",
    "import numpy as np\n",
    "import krippendorff\n",
    "import matplotlib.pyplot as plt\n",
    "from scipy import stats\n",
    "pd.set_option('display.max_colwidth', None)"
   ]
  },
  {
   "cell_type": "code",
   "execution_count": null,
   "id": "54cc755f-f25d-4e3e-b570-cc0dba6c10cb",
   "metadata": {},
   "outputs": [],
   "source": [
    "data_dir = '../../data/'"
   ]
  },
  {
   "cell_type": "code",
   "execution_count": null,
   "id": "834e6d40-cdff-45e4-b162-6f301d33f550",
   "metadata": {},
   "outputs": [],
   "source": [
    "df_dagstuhl = pd.read_csv(data_dir+'dagstuhl-15512-argquality-corpus-v2/dagstuhl-15512-argquality-corpus-v2-mean.csv')\n",
    "df_sources = pd.read_csv(data_dir+'appropriateness-corpus/annotation_dataset_types_sourceids.csv')\n",
    "df_appropriateness = pd.read_csv(data_dir+'appropriateness-corpus/appropriateness_corpus_mean.csv')"
   ]
  },
  {
   "cell_type": "code",
   "execution_count": null,
   "id": "715a1b84-f8c8-43e3-80cf-372964e7aac4",
   "metadata": {},
   "outputs": [],
   "source": [
    "df_appropriateness['source_id'] = df_sources['id'].tolist()"
   ]
  },
  {
   "cell_type": "code",
   "execution_count": null,
   "id": "fed84fa5-1891-49b1-aa14-907a88b56e17",
   "metadata": {},
   "outputs": [],
   "source": [
    "df_appropriateness = df_appropriateness[df_appropriateness['source_id'].isin(df_dagstuhl['#id'].tolist())]"
   ]
  },
  {
   "cell_type": "code",
   "execution_count": null,
   "id": "4f170e4f-0818-4e80-8d4e-710b8b6e16f7",
   "metadata": {},
   "outputs": [],
   "source": [
    "df_dagstuhl.sort_values('#id', inplace=True)"
   ]
  },
  {
   "cell_type": "code",
   "execution_count": null,
   "id": "90d18e89-fc0f-4c36-969f-77cb3de9cb61",
   "metadata": {},
   "outputs": [],
   "source": [
    "df_appropriateness.sort_values('source_id', inplace=True)"
   ]
  },
  {
   "cell_type": "code",
   "execution_count": null,
   "id": "2b72c764-47a1-4ad2-902d-95069f4f090d",
   "metadata": {},
   "outputs": [],
   "source": [
    "rel_dims_dagstuhl = list(set(df_dagstuhl.columns)-set(['argument', '#id', 'issue']))\n",
    "rel_dims_appropriateness = ['Inappropriateness', 'Toxic Emotions', 'Excessive Intensity', 'Emotional Deception', 'Missing Commitment', 'Missing Seriousness', 'Missing Openness', 'Missing Intelligibility', 'Unclear Meaning', 'Missing Relevance', 'Confusing Reasoning', 'Other Reasons', 'Detrimental Orthography', 'Reason Unclassified']"
   ]
  },
  {
   "cell_type": "code",
   "execution_count": null,
   "id": "51205376-99af-4e9f-8683-d57c6b96c6ab",
   "metadata": {},
   "outputs": [],
   "source": [
    "rel_dims_dagstuhl = [\n",
    "    'overall quality',\n",
    "    'effectiveness',\n",
    "    'appropriateness',\n",
    "    'emotional appeal',\n",
    "    'clarity',\n",
    "    'credibility',\n",
    "    'arrangement',\n",
    "]"
   ]
  },
  {
   "cell_type": "code",
   "execution_count": null,
   "id": "a246010a-2855-4534-9b8c-4dd3e2755281",
   "metadata": {},
   "outputs": [],
   "source": [
    "corr_dict = {\n",
    "    'rel_dims_dagstuhl': rel_dims_dagstuhl, \n",
    "    'Inappropriateness': [],\n",
    "    'Toxic Emotions': [],\n",
    "    'Excessive Intensity': [],\n",
    "    'Emotional Deception': [],\n",
    "    'Missing Commitment': [],\n",
    "    'Missing Seriousness': [],\n",
    "    'Missing Openness': [],\n",
    "    'Missing Intelligibility': [],\n",
    "    'Unclear Meaning': [],\n",
    "    'Missing Relevance': [],\n",
    "    'Confusing Reasoning': [],\n",
    "    'Other Reasons': [],\n",
    "    'Detrimental Orthography': [],\n",
    "    'Reason Unclassified': [],\n",
    "}\n",
    "\n",
    "for rel_dim_dagstuhl in rel_dims_dagstuhl:\n",
    "    for rel_dim_appropriateness in rel_dims_appropriateness:\n",
    "        x1 = [float(x) for x in df_dagstuhl[rel_dim_dagstuhl].tolist()]\n",
    "        x2 = [float(x) for x in df_appropriateness[rel_dim_appropriateness].tolist()]\n",
    "        tau, p_value = stats.kendalltau(x1, x2)\n",
    "        corr_dict[rel_dim_appropriateness].append(np.round(tau,2))"
   ]
  },
  {
   "cell_type": "code",
   "execution_count": null,
   "id": "854bbaad-bb86-4351-bcc5-4d804aca6f39",
   "metadata": {},
   "outputs": [],
   "source": [
    "df_corr = pd.DataFrame(corr_dict)"
   ]
  },
  {
   "cell_type": "code",
   "execution_count": null,
   "id": "a8d236b9-0e8d-4080-84b4-a78d333d420f",
   "metadata": {},
   "outputs": [],
   "source": [
    "df_corr"
   ]
  },
  {
   "cell_type": "code",
   "execution_count": null,
   "id": "14a9985d-7fbc-47e3-aa21-a5b50074ea91",
   "metadata": {},
   "outputs": [],
   "source": [
    "df_corr.T"
   ]
  },
  {
   "cell_type": "code",
   "execution_count": null,
   "id": "e9825697-8bb2-486b-8076-e3150eff9967",
   "metadata": {},
   "outputs": [],
   "source": []
  },
  {
   "cell_type": "code",
   "execution_count": null,
   "id": "ec592e51-4420-4397-a9fa-5ba2e6004675",
   "metadata": {},
   "outputs": [],
   "source": []
  }
 ],
 "metadata": {
  "kernelspec": {
   "display_name": "Python 3 (ipykernel)",
   "language": "python",
   "name": "python3"
  },
  "language_info": {
   "codemirror_mode": {
    "name": "ipython",
    "version": 3
   },
   "file_extension": ".py",
   "mimetype": "text/x-python",
   "name": "python",
   "nbconvert_exporter": "python",
   "pygments_lexer": "ipython3",
   "version": "3.10.6"
  }
 },
 "nbformat": 4,
 "nbformat_minor": 5
}
