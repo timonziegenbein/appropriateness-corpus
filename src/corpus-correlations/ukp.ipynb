{
 "cells": [
  {
   "cell_type": "markdown",
   "id": "9a087fa7-bc2f-4e20-a104-fd757e6f5281",
   "metadata": {},
   "source": [
    "### This file computes the correlation metrics of the appropriateness corpus and the UKP corpus (table 3 in the paper)"
   ]
  },
  {
   "cell_type": "code",
   "execution_count": null,
   "id": "49f84412-5c6c-4a3e-abc1-f4137a7de36d",
   "metadata": {},
   "outputs": [],
   "source": [
    "import glob\n",
    "import pandas as pd\n",
    "import numpy as np\n",
    "import editdistance\n",
    "from scipy import stats\n",
    "import math\n",
    "\n",
    "from os import listdir\n",
    "from collections import Counter\n",
    "from os.path import isfile, join\n",
    "from sklearn.model_selection import StratifiedKFold\n",
    "from spacy.tokenizer import Tokenizer\n",
    "from spacy.lang.en import English\n",
    "from spacy.pipeline import Sentencizer\n",
    "\n",
    "pd.set_option('display.max_colwidth', None)"
   ]
  },
  {
   "cell_type": "markdown",
   "id": "66c5993f-5a78-46b8-a6e1-042f6a9e8c97",
   "metadata": {},
   "source": [
    "#### Reproduce results from the Argument Theory vs. Practice paper"
   ]
  },
  {
   "cell_type": "code",
   "execution_count": null,
   "id": "54cc755f-f25d-4e3e-b570-cc0dba6c10cb",
   "metadata": {},
   "outputs": [],
   "source": [
    "data_dir = '../../data/'\n",
    "ukp2_dir = '../../repo/emnlp2016-empirical-convincingness/data/CSV-format/'"
   ]
  },
  {
   "cell_type": "code",
   "execution_count": null,
   "id": "834e6d40-cdff-45e4-b162-6f301d33f550",
   "metadata": {},
   "outputs": [],
   "source": [
    "df_dagstuhl = pd.read_csv(data_dir+'dagstuhl-15512-argquality-corpus-v2/dagstuhl-15512-argquality-corpus-v2-mean.csv')\n",
    "df_sources = pd.read_csv(data_dir+'appropriateness-corpus/annotation_dataset_types_sourceids.csv')\n",
    "df_appropriateness = pd.read_csv(data_dir+'appropriateness-corpus/appropriateness_corpus_mean.csv')"
   ]
  },
  {
   "cell_type": "code",
   "execution_count": null,
   "id": "93347882-3cf5-43c7-ba6e-e06db9891bd7",
   "metadata": {},
   "outputs": [],
   "source": [
    "df_appropriateness['source_id'] = df_sources['id'].tolist()"
   ]
  },
  {
   "cell_type": "code",
   "execution_count": null,
   "id": "1340536b-08ba-4f71-acc9-b3b6fcae9453",
   "metadata": {},
   "outputs": [],
   "source": [
    "df_appropriateness = df_appropriateness[df_appropriateness['source_id'].isin(df_dagstuhl['#id'].tolist())]"
   ]
  },
  {
   "cell_type": "code",
   "execution_count": null,
   "id": "002517bd-428f-47c4-81e2-be39decc850f",
   "metadata": {},
   "outputs": [],
   "source": [
    "df_appropriateness.sort_values('source_id', inplace=True)"
   ]
  },
  {
   "cell_type": "code",
   "execution_count": null,
   "id": "96a76906-46d1-4d6b-9ed5-4769580ca633",
   "metadata": {},
   "outputs": [],
   "source": [
    "df_appropriateness.reset_index(inplace=True)"
   ]
  },
  {
   "cell_type": "code",
   "execution_count": null,
   "id": "d4923da6-e9ba-4f3b-aaf8-e8b50332a090",
   "metadata": {},
   "outputs": [],
   "source": [
    "rel_files_ukp2 = glob.glob(ukp2_dir+'*')\n",
    "dfs = []\n",
    "for file in rel_files_ukp2:\n",
    "    if 'LICENSE.txt' not in file:\n",
    "        tmp_df = pd.read_csv(file, sep='\\t', names=['pair_id','gold_label','more_conv_arg','less_conv_arg'])\n",
    "        tmp_df['issue'] = file.split('/')[-1].split('.csv')[0].split('.xml')[0].split('_')[0]\n",
    "        tmp_df['stance'] = file.split('/')[-1].split('.csv')[0].split('.xml')[0].split('_')[1]\n",
    "        dfs.append(tmp_df)\n",
    "df_ukp2 = pd.concat(dfs)"
   ]
  },
  {
   "cell_type": "code",
   "execution_count": null,
   "id": "2ee2bb6f-3d85-41af-8cba-dc82a8f0703c",
   "metadata": {},
   "outputs": [],
   "source": [
    "df_ukp2['less_conv_arg_id'] = df_ukp2['pair_id'].apply(lambda x: x.split('_')[0])\n",
    "df_ukp2['more_conv_arg_id'] = df_ukp2['pair_id'].apply(lambda x: x.split('_')[1])"
   ]
  },
  {
   "cell_type": "code",
   "execution_count": null,
   "id": "2757de58-aaae-409c-b2d2-d884ff06cacf",
   "metadata": {},
   "outputs": [],
   "source": [
    "df_ukp2 = df_ukp2[(df_ukp2['less_conv_arg_id'].isin(df_dagstuhl['#id'].tolist())) &(df_ukp2['more_conv_arg_id'].isin(df_dagstuhl['#id'].tolist()))]\n",
    "df_ukp2.reset_index(inplace=True)"
   ]
  },
  {
   "cell_type": "code",
   "execution_count": null,
   "id": "4feeb8a8-d716-4781-8c19-e60c0b171cc7",
   "metadata": {},
   "outputs": [],
   "source": [
    "def closest_by_edit(x):\n",
    "    pair_id = x[0]\n",
    "    arg_id1 = pair_id.split('_')[0]\n",
    "    arg_id2 = pair_id.split('_')[1]\n",
    "    x_conv_arg = x[1]\n",
    "    arg_text1 = df_dagstuhl[df_dagstuhl['#id']==arg_id1]['argument'].tolist()[0]\n",
    "    arg_text2 = df_dagstuhl[df_dagstuhl['#id']==arg_id2]['argument'].tolist()[0]\n",
    "    dist1 = editdistance.eval(arg_text1,x_conv_arg)\n",
    "    dist2 = editdistance.eval(arg_text2,x_conv_arg)\n",
    "    if dist1 < dist2:\n",
    "        return arg_id1\n",
    "    else:\n",
    "        return arg_id2"
   ]
  },
  {
   "cell_type": "code",
   "execution_count": null,
   "id": "8b6f5755-2221-4910-9979-91e6c5101ff3",
   "metadata": {
    "tags": []
   },
   "outputs": [],
   "source": [
    "df_ukp2['less_conv_arg_id'] = df_ukp2[['pair_id','less_conv_arg']].apply(lambda x: closest_by_edit(x), axis=1)\n",
    "df_ukp2['more_conv_arg_id'] = df_ukp2[['pair_id','more_conv_arg']].apply(lambda x: closest_by_edit(x), axis=1)"
   ]
  },
  {
   "cell_type": "code",
   "execution_count": null,
   "id": "fe117091-2db5-49e8-8f81-f6fd9ff0ee50",
   "metadata": {},
   "outputs": [],
   "source": [
    "unique_labels = []\n",
    "for labels in df_ukp2.gold_label.tolist():\n",
    "    labels_list = labels.split(',')\n",
    "    for label in labels_list:\n",
    "        unique_labels.append(label)"
   ]
  },
  {
   "cell_type": "code",
   "execution_count": null,
   "id": "9e174709-fbbb-44c7-86ef-314c6dd0b0fd",
   "metadata": {},
   "outputs": [],
   "source": [
    "unique_labels = sorted(list(set(unique_labels)))"
   ]
  },
  {
   "cell_type": "code",
   "execution_count": null,
   "id": "760665f4-8081-4e55-947c-d24f8bc4247d",
   "metadata": {},
   "outputs": [],
   "source": [
    "MORE_CONVINCING_LABELS = [\n",
    "    \"o8_1\", \"o8_4\", \"o8_5\", \n",
    "    \"o9_1\", \"o9_2\", \"o9_3\", \"o9_4\"\n",
    "]\n",
    "LESS_CONVINCING_LABELS = list(set(unique_labels)-set(MORE_CONVINCING_LABELS))"
   ]
  },
  {
   "cell_type": "code",
   "execution_count": null,
   "id": "6b61f63d-4816-4a65-9764-08320e273de2",
   "metadata": {},
   "outputs": [],
   "source": [
    "unique_labels_dict = {x: i for i, x in enumerate(unique_labels)}"
   ]
  },
  {
   "cell_type": "code",
   "execution_count": null,
   "id": "98d3f90c-8ae3-431b-a234-73b9a7801015",
   "metadata": {},
   "outputs": [],
   "source": [
    "unique_args = list(set(df_ukp2.less_conv_arg_id.tolist()+df_ukp2.more_conv_arg_id.tolist()))"
   ]
  },
  {
   "cell_type": "code",
   "execution_count": null,
   "id": "5923b2da-ff93-452b-a55e-be8a718caa00",
   "metadata": {},
   "outputs": [],
   "source": [
    "label_counts = {x: np.zeros(len(df_ukp2)) for x in unique_labels}"
   ]
  },
  {
   "cell_type": "code",
   "execution_count": null,
   "id": "35062a75-54c4-47bd-bca6-0f974824b40e",
   "metadata": {},
   "outputs": [],
   "source": [
    "for i, row in df_ukp2.iterrows():\n",
    "    for label in unique_labels:\n",
    "        if label in row.gold_label.split(','):\n",
    "            label_counts[label][i] = 1\n",
    "        else:\n",
    "            label_counts[label][i] = 0"
   ]
  },
  {
   "cell_type": "code",
   "execution_count": null,
   "id": "c4a63822-8ee7-4c47-b392-92b9b6d91413",
   "metadata": {},
   "outputs": [],
   "source": [
    "for key, value in label_counts.items():\n",
    "    df_ukp2[key] = value"
   ]
  },
  {
   "cell_type": "code",
   "execution_count": null,
   "id": "2b72c764-47a1-4ad2-902d-95069f4f090d",
   "metadata": {},
   "outputs": [],
   "source": [
    "rel_dims_dagstuhl = list(set(df_dagstuhl.columns)-set(['argument', '#id', 'issue']))\n",
    "rel_dims_appropriateness = ['Inappropriateness', 'Toxic Emotions', 'Excessive Intensity', 'Emotional Deception', 'Missing Commitment', 'Missing Seriousness', 'Missing Openness', 'Missing Intelligibility', 'Unclear Meaning', 'Missing Relevance', 'Confusing Reasoning', 'Other Reasons', 'Detrimental Orthography', 'Reason Unclassified']"
   ]
  },
  {
   "cell_type": "code",
   "execution_count": null,
   "id": "c86e45d8-d2dd-4951-b981-8df2ffa1bdf5",
   "metadata": {},
   "outputs": [],
   "source": [
    "label_counts_more = {x: np.zeros(len(df_ukp2)) for x in rel_dims_dagstuhl}\n",
    "label_counts_less = {x: np.zeros(len(df_ukp2)) for x in rel_dims_dagstuhl}"
   ]
  },
  {
   "cell_type": "code",
   "execution_count": null,
   "id": "6469958a-7920-4424-9ccc-88275176cc24",
   "metadata": {
    "tags": []
   },
   "outputs": [],
   "source": [
    "for i, row in df_ukp2.iterrows():\n",
    "    more_conv_values = df_dagstuhl[df_dagstuhl['#id']==row['more_conv_arg_id']][rel_dims_dagstuhl].values[0]\n",
    "    less_conv_values = df_dagstuhl[df_dagstuhl['#id']==row['less_conv_arg_id']][rel_dims_dagstuhl].values[0]\n",
    "    for j, label in enumerate(rel_dims_dagstuhl):\n",
    "        label_counts_more[label][i] = more_conv_values[j]\n",
    "        label_counts_less[label][i] = less_conv_values[j]"
   ]
  },
  {
   "cell_type": "code",
   "execution_count": null,
   "id": "eff9a419-19be-4097-bc71-bc8e04603094",
   "metadata": {},
   "outputs": [],
   "source": [
    "for key, value in label_counts_more.items():\n",
    "    df_ukp2['more_'+key] = value\n",
    "for key, value in label_counts_less.items():\n",
    "    df_ukp2['less_'+key] = value"
   ]
  },
  {
   "cell_type": "code",
   "execution_count": null,
   "id": "46a75108-3602-419c-ab96-9e3bd2f1a302",
   "metadata": {},
   "outputs": [],
   "source": [
    "label_counts_more = {x: np.zeros(len(df_ukp2)) for x in rel_dims_appropriateness}\n",
    "label_counts_less = {x: np.zeros(len(df_ukp2)) for x in rel_dims_appropriateness}"
   ]
  },
  {
   "cell_type": "code",
   "execution_count": null,
   "id": "75f591a3-1460-433a-98dd-e43f187554b7",
   "metadata": {
    "tags": []
   },
   "outputs": [],
   "source": [
    "for i, row in df_ukp2.iterrows():\n",
    "    more_conv_values = df_appropriateness[df_appropriateness['source_id']==row['more_conv_arg_id']][rel_dims_appropriateness].values[0]\n",
    "    less_conv_values = df_appropriateness[df_appropriateness['source_id']==row['less_conv_arg_id']][rel_dims_appropriateness].values[0]\n",
    "    for j, label in enumerate(rel_dims_appropriateness):\n",
    "        label_counts_more[label][i] = more_conv_values[j]\n",
    "        label_counts_less[label][i] = less_conv_values[j]"
   ]
  },
  {
   "cell_type": "code",
   "execution_count": null,
   "id": "dfe04564-805f-4fa1-9845-5d27bfe95e4d",
   "metadata": {},
   "outputs": [],
   "source": [
    "for key, value in label_counts_more.items():\n",
    "    df_ukp2['more_'+key+'_app'] = value\n",
    "for key, value in label_counts_less.items():\n",
    "    df_ukp2['less_'+key+'_app'] = value"
   ]
  },
  {
   "cell_type": "code",
   "execution_count": null,
   "id": "a246010a-2855-4534-9b8c-4dd3e2755281",
   "metadata": {},
   "outputs": [],
   "source": [
    "corr_dict = {\n",
    "    'rel_dims': rel_dims_dagstuhl, \n",
    "    'o8_1': [],\n",
    "    'o8_4': [],\n",
    "    'o8_5': [],\n",
    "    'o9_1': [],\n",
    "    'o9_2': [],\n",
    "    'o9_3': [],\n",
    "    'o9_4': [],\n",
    "    'o5_1': [],\n",
    "    'o5_2': [],\n",
    "    'o5_3': [],\n",
    "    'o6_1': [],\n",
    "    'o6_2': [],\n",
    "    'o6_3': [],\n",
    "    'o7_1': [],\n",
    "    'o7_2': [],\n",
    "    'o7_3': [],\n",
    "    'o7_4': [],\n",
    "    'conv': [],\n",
    "}\n",
    "\n",
    "\n",
    "for rel_dim_dagstuhl in rel_dims_dagstuhl:\n",
    "    for rel_dim_ukp in MORE_CONVINCING_LABELS+LESS_CONVINCING_LABELS:\n",
    "        x1 = df_ukp2[df_ukp2[rel_dim_ukp]==1]['more_'+rel_dim_dagstuhl].tolist()\n",
    "        x2 = df_ukp2[df_ukp2[rel_dim_ukp]==1]['less_'+rel_dim_dagstuhl].tolist()\n",
    "        tieA = 0\n",
    "        tieB = 0\n",
    "        concordants = 0\n",
    "        discordants = 0\n",
    "        for i, x in enumerate(df_ukp2[rel_dim_ukp].tolist()):\n",
    "            if x != 1:\n",
    "                tieA+=1\n",
    "        for a,b in zip(x1,x2):\n",
    "            if a>b:\n",
    "                concordants+=1\n",
    "            elif b>a:\n",
    "                discordants+=1\n",
    "            else:\n",
    "                tieB+=1\n",
    "                \n",
    "        all_ = concordants + discordants + 0 + tieB\n",
    "        \n",
    "        tau = (concordants - discordants) / math.sqrt((all_-0)*(all_-tieB))\n",
    "        corr_dict[rel_dim_ukp].append(np.round(tau,2))\n",
    "        \n",
    "    x1 = df_ukp2['more_'+rel_dim_dagstuhl].tolist()\n",
    "    x2 = df_ukp2['less_'+rel_dim_dagstuhl].tolist()\n",
    "    tieA = 0\n",
    "    tieB = 0\n",
    "    concordants = 0\n",
    "    discordants = 0\n",
    "\n",
    "    for a,b in zip(x1,x2):\n",
    "        if a>b:\n",
    "            concordants+=1\n",
    "        elif b>a:\n",
    "            discordants+=1\n",
    "        else:\n",
    "            tieB+=1\n",
    "\n",
    "    all_ = concordants + discordants + 0 + tieB\n",
    "\n",
    "    tau = (concordants - discordants) / math.sqrt((all_-0)*(all_-tieB))\n",
    "    corr_dict['conv'].append(np.round(tau,2))\n"
   ]
  },
  {
   "cell_type": "code",
   "execution_count": null,
   "id": "854bbaad-bb86-4351-bcc5-4d804aca6f39",
   "metadata": {},
   "outputs": [],
   "source": [
    "df_corr = pd.DataFrame(corr_dict)"
   ]
  },
  {
   "cell_type": "code",
   "execution_count": null,
   "id": "a8d236b9-0e8d-4080-84b4-a78d333d420f",
   "metadata": {},
   "outputs": [],
   "source": [
    "df_corr[['rel_dims','o8_1', 'o8_4', 'o8_5', 'o9_1', 'o9_2', 'o9_3', 'o9_4','o5_1', 'o5_2', 'o5_3', 'o6_1', 'o6_2', 'o6_3', 'o7_1', 'o7_2', 'o7_3', 'o7_4', 'conv']]"
   ]
  },
  {
   "cell_type": "markdown",
   "id": "07e62354-a3cf-4425-b614-b99643bc1a5d",
   "metadata": {},
   "source": [
    "---"
   ]
  },
  {
   "cell_type": "markdown",
   "id": "9269f562-a4d3-4bc1-9d3b-174942cb5948",
   "metadata": {},
   "source": [
    "#### Use the same calculations to compute the correlations metrics for our corpus"
   ]
  },
  {
   "cell_type": "code",
   "execution_count": null,
   "id": "a844e2a8-2780-4ba2-97e2-c9c7990a0bb3",
   "metadata": {},
   "outputs": [],
   "source": [
    "df_dagstuhl = pd.read_csv(data_dir+'dagstuhl-15512-argquality-corpus-v2/dagstuhl-15512-argquality-corpus-v2-mean.csv')\n",
    "df_sources = pd.read_csv(data_dir+'appropriateness-corpus/annotation_dataset_types_sourceids.csv')\n",
    "df_appropriateness = pd.read_csv(data_dir+'appropriateness-corpus/appropriateness_corpus_mean.csv')"
   ]
  },
  {
   "cell_type": "code",
   "execution_count": null,
   "id": "a012a2cd-c36c-4265-8f21-f584fabacdcc",
   "metadata": {},
   "outputs": [],
   "source": [
    "df_appropriateness.columns"
   ]
  },
  {
   "cell_type": "code",
   "execution_count": null,
   "id": "80a5f5e4-5a0a-4678-bcde-b18edddbf018",
   "metadata": {},
   "outputs": [],
   "source": [
    "rel_files_ukp2 = glob.glob(ukp2_dir+'*')\n",
    "dfs = []\n",
    "for file in rel_files_ukp2:\n",
    "    if 'LICENSE.txt' not in file:\n",
    "        tmp_df = pd.read_csv(file, sep='\\t', names=['pair_id','gold_label','more_conv_arg','less_conv_arg'])\n",
    "        tmp_df['issue'] = file.split('/')[-1].split('.csv')[0].split('.xml')[0].split('_')[0]\n",
    "        tmp_df['stance'] = file.split('/')[-1].split('.csv')[0].split('.xml')[0].split('_')[1]\n",
    "        dfs.append(tmp_df)\n",
    "df_ukp2 = pd.concat(dfs)"
   ]
  },
  {
   "cell_type": "code",
   "execution_count": null,
   "id": "0b5ea528-e59f-40ba-ae8d-febc8290e5f5",
   "metadata": {},
   "outputs": [],
   "source": [
    "df_ukp2.sample()"
   ]
  },
  {
   "cell_type": "code",
   "execution_count": null,
   "id": "ea581e62-1f63-4767-8cf9-cff16f170613",
   "metadata": {},
   "outputs": [],
   "source": [
    "df_ukp2['less_conv_arg_id'] = df_ukp2['pair_id'].apply(lambda x: x.split('_')[0])\n",
    "df_ukp2['more_conv_arg_id'] = df_ukp2['pair_id'].apply(lambda x: x.split('_')[1])"
   ]
  },
  {
   "cell_type": "code",
   "execution_count": null,
   "id": "cf693e1c-7389-4beb-b21a-a19f794259f8",
   "metadata": {},
   "outputs": [],
   "source": [
    "unique_args = list(set(df_ukp2.less_conv_arg_id.tolist()+df_ukp2.more_conv_arg_id.tolist()))"
   ]
  },
  {
   "cell_type": "code",
   "execution_count": null,
   "id": "dbc9ed7a-2e52-486c-93dd-42193c64a187",
   "metadata": {},
   "outputs": [],
   "source": [
    "df_appropriateness['source_id'] = df_sources['id'].tolist()"
   ]
  },
  {
   "cell_type": "code",
   "execution_count": null,
   "id": "5c155c55-947c-46ee-9b14-43f4df54a23d",
   "metadata": {},
   "outputs": [],
   "source": [
    "df_appropriateness = df_appropriateness[df_appropriateness['source_id'].isin(unique_args)]"
   ]
  },
  {
   "cell_type": "code",
   "execution_count": null,
   "id": "b7609109-9846-47b1-bbba-13b85cfb6da2",
   "metadata": {},
   "outputs": [],
   "source": [
    "df_appropriateness.sort_values('source_id', inplace=True)"
   ]
  },
  {
   "cell_type": "code",
   "execution_count": null,
   "id": "de4099c5-0a6a-4234-969f-9fcd36e5c1c5",
   "metadata": {},
   "outputs": [],
   "source": [
    "df_appropriateness.reset_index(inplace=True)"
   ]
  },
  {
   "cell_type": "code",
   "execution_count": null,
   "id": "1f2835dd-6532-4318-8d40-22c087d75b77",
   "metadata": {},
   "outputs": [],
   "source": [
    "df_ukp2.reset_index(inplace=True)"
   ]
  },
  {
   "cell_type": "code",
   "execution_count": null,
   "id": "7d2f3a11-f008-4ba3-9f1d-2b035a8fce9c",
   "metadata": {},
   "outputs": [],
   "source": [
    "def closest_by_edit(x):\n",
    "    pair_id = x[0]\n",
    "    arg_id1 = pair_id.split('_')[0]\n",
    "    arg_id2 = pair_id.split('_')[1]\n",
    "    x_conv_arg = x[1]\n",
    "    arg_text1 = df_appropriateness[df_appropriateness['source_id']==arg_id1]['post_text'].tolist()[0]\n",
    "    arg_text2 = df_appropriateness[df_appropriateness['source_id']==arg_id2]['post_text'].tolist()[0]\n",
    "    dist1 = editdistance.eval(arg_text1,x_conv_arg)\n",
    "    dist2 = editdistance.eval(arg_text2,x_conv_arg)\n",
    "    if dist1 < dist2:\n",
    "        return arg_id1\n",
    "    else:\n",
    "        return arg_id2"
   ]
  },
  {
   "cell_type": "code",
   "execution_count": null,
   "id": "860861c4-db23-48c2-8355-663c0137e8ff",
   "metadata": {
    "tags": []
   },
   "outputs": [],
   "source": [
    "df_ukp2['less_conv_arg_id'] = df_ukp2[['pair_id','less_conv_arg']].apply(lambda x: closest_by_edit(x), axis=1)\n",
    "df_ukp2['more_conv_arg_id'] = df_ukp2[['pair_id','more_conv_arg']].apply(lambda x: closest_by_edit(x), axis=1)"
   ]
  },
  {
   "cell_type": "code",
   "execution_count": null,
   "id": "a52ebfba-b842-4c20-95c5-2f128d62d767",
   "metadata": {},
   "outputs": [],
   "source": [
    "unique_labels = []\n",
    "for labels in df_ukp2.gold_label.tolist():\n",
    "    labels_list = labels.split(',')\n",
    "    for label in labels_list:\n",
    "        unique_labels.append(label)"
   ]
  },
  {
   "cell_type": "code",
   "execution_count": null,
   "id": "719a7296-f151-41dd-9454-b8f9e7a25a11",
   "metadata": {},
   "outputs": [],
   "source": [
    "unique_labels = sorted(list(set(unique_labels)))"
   ]
  },
  {
   "cell_type": "code",
   "execution_count": null,
   "id": "fbd98ee0-5827-43e4-b76e-bc972f6a408f",
   "metadata": {},
   "outputs": [],
   "source": [
    "MORE_CONVINCING_LABELS = [\n",
    "    \"o8_1\", \"o8_4\", \"o8_5\", \n",
    "    \"o9_1\", \"o9_2\", \"o9_3\", \"o9_4\"\n",
    "]\n",
    "LESS_CONVINCING_LABELS = list(set(unique_labels)-set(MORE_CONVINCING_LABELS))"
   ]
  },
  {
   "cell_type": "code",
   "execution_count": null,
   "id": "49cd7f85-469d-4fcd-8294-70b38d81c674",
   "metadata": {},
   "outputs": [],
   "source": [
    "unique_labels_dict = {x: i for i, x in enumerate(unique_labels)}"
   ]
  },
  {
   "cell_type": "code",
   "execution_count": null,
   "id": "ffbf8e28-d1f4-4db6-a3db-4fa942df52c6",
   "metadata": {},
   "outputs": [],
   "source": [
    "label_counts = {x: np.zeros(len(df_ukp2)) for x in unique_labels}"
   ]
  },
  {
   "cell_type": "code",
   "execution_count": null,
   "id": "4433330e-d132-4034-bad1-faceb36e6ccb",
   "metadata": {},
   "outputs": [],
   "source": [
    "for i, row in df_ukp2.iterrows():\n",
    "    for label in unique_labels:\n",
    "        if label in row.gold_label.split(','):\n",
    "            label_counts[label][i] = 1\n",
    "        else:\n",
    "            label_counts[label][i] = 0"
   ]
  },
  {
   "cell_type": "code",
   "execution_count": null,
   "id": "989d4dab-6227-40b6-a185-8db8cd50489e",
   "metadata": {},
   "outputs": [],
   "source": [
    "for key, value in label_counts.items():\n",
    "    df_ukp2[key] = value"
   ]
  },
  {
   "cell_type": "code",
   "execution_count": null,
   "id": "29169fde-d4fb-4149-9c94-6d30dde3c4c3",
   "metadata": {},
   "outputs": [],
   "source": [
    "rel_dims_appropriateness = ['Inappropriateness', 'Toxic Emotions', 'Excessive Intensity', 'Emotional Deception', 'Missing Commitment', 'Missing Seriousness', 'Missing Openness', 'Missing Intelligibility', 'Unclear Meaning', 'Missing Relevance', 'Confusing Reasoning', 'Other Reasons', 'Detrimental Orthography', 'Reason Unclassified']"
   ]
  },
  {
   "cell_type": "code",
   "execution_count": null,
   "id": "5919b473-07bb-45f7-82cf-ecce7a60f2ef",
   "metadata": {},
   "outputs": [],
   "source": [
    "label_counts_more = {x: np.zeros(len(df_ukp2)) for x in rel_dims_appropriateness}\n",
    "label_counts_less = {x: np.zeros(len(df_ukp2)) for x in rel_dims_appropriateness}"
   ]
  },
  {
   "cell_type": "code",
   "execution_count": null,
   "id": "549d7b6c-2807-43ea-b685-3b28a8bfe83d",
   "metadata": {
    "tags": []
   },
   "outputs": [],
   "source": [
    "for i, row in df_ukp2.iterrows():\n",
    "    more_conv_values = df_appropriateness[df_appropriateness['source_id']==row['more_conv_arg_id']][rel_dims_appropriateness].values[0]\n",
    "    less_conv_values = df_appropriateness[df_appropriateness['source_id']==row['less_conv_arg_id']][rel_dims_appropriateness].values[0]\n",
    "    for j, label in enumerate(rel_dims_appropriateness):\n",
    "        label_counts_more[label][i] = more_conv_values[j]\n",
    "        label_counts_less[label][i] = less_conv_values[j]"
   ]
  },
  {
   "cell_type": "code",
   "execution_count": null,
   "id": "4d6739d7-a469-4055-84cd-b6a4e7ba546f",
   "metadata": {},
   "outputs": [],
   "source": [
    "for key, value in label_counts_more.items():\n",
    "    df_ukp2['more_'+key+'_app'] = value\n",
    "for key, value in label_counts_less.items():\n",
    "    df_ukp2['less_'+key+'_app'] = value"
   ]
  },
  {
   "cell_type": "code",
   "execution_count": null,
   "id": "ccf67fe1-b3c9-434e-bd4e-00d518cd0377",
   "metadata": {},
   "outputs": [],
   "source": [
    "corr_dict = {\n",
    "    'rel_dims': rel_dims_appropriateness, \n",
    "    'o8_1': [],\n",
    "    'o8_4': [],\n",
    "    'o8_5': [],\n",
    "    'o9_1': [],\n",
    "    'o9_2': [],\n",
    "    'o9_3': [],\n",
    "    'o9_4': [],\n",
    "    'o5_1': [],\n",
    "    'o5_2': [],\n",
    "    'o5_3': [],\n",
    "    'o6_1': [],\n",
    "    'o6_2': [],\n",
    "    'o6_3': [],\n",
    "    'o7_1': [],\n",
    "    'o7_2': [],\n",
    "    'o7_3': [],\n",
    "    'o7_4': [],\n",
    "    'conv': [],\n",
    "}\n",
    "\n",
    "for rel_dim_appropriateness in rel_dims_appropriateness:\n",
    "    for rel_dim_ukp in MORE_CONVINCING_LABELS+LESS_CONVINCING_LABELS:\n",
    "        x1 = df_ukp2[df_ukp2[rel_dim_ukp]==1]['more_'+rel_dim_appropriateness+'_app'].tolist()\n",
    "        x2 = df_ukp2[df_ukp2[rel_dim_ukp]==1]['less_'+rel_dim_appropriateness+'_app'].tolist()\n",
    "        tieA = 0\n",
    "        tieB = 0\n",
    "        concordants = 0\n",
    "        discordants = 0\n",
    "        for i, x in enumerate(df_ukp2[rel_dim_ukp].tolist()):\n",
    "            if x != 1:\n",
    "                tieA+=1\n",
    "        for a,b in zip(x1,x2):\n",
    "            if a>b:\n",
    "                concordants+=1\n",
    "            elif b>a:\n",
    "                discordants+=1\n",
    "            else:\n",
    "                tieB+=1\n",
    "                \n",
    "        all_ = concordants + discordants + 0 + tieB\n",
    "        \n",
    "        tau = (concordants - discordants) / math.sqrt((all_-0)*(all_-tieB))\n",
    "        corr_dict[rel_dim_ukp].append(np.round(tau,2))\n",
    "        \n",
    "    x1 = df_ukp2['more_'+rel_dim_appropriateness+'_app'].tolist()\n",
    "    x2 = df_ukp2['less_'+rel_dim_appropriateness+'_app'].tolist()\n",
    "    tieA = 0\n",
    "    tieB = 0\n",
    "    concordants = 0\n",
    "    discordants = 0\n",
    "\n",
    "    for a,b in zip(x1,x2):\n",
    "        if a>b:\n",
    "            concordants+=1\n",
    "        elif b>a:\n",
    "            discordants+=1\n",
    "        else:\n",
    "            tieB+=1\n",
    "\n",
    "    all_ = concordants + discordants + 0 + tieB\n",
    "\n",
    "    tau = (concordants - discordants) / math.sqrt((all_-0)*(all_-tieB))\n",
    "    corr_dict['conv'].append(np.round(tau,2))\n",
    "\n"
   ]
  },
  {
   "cell_type": "code",
   "execution_count": null,
   "id": "3a8ce23e-898a-4f3d-896b-a744e2fd6028",
   "metadata": {},
   "outputs": [],
   "source": [
    "df_corr = pd.DataFrame(corr_dict)"
   ]
  },
  {
   "cell_type": "code",
   "execution_count": null,
   "id": "e5402a5b-a6d9-45e6-a17c-61fc3da7333c",
   "metadata": {},
   "outputs": [],
   "source": [
    "df_corr[['rel_dims','o8_1', 'o8_4', 'o8_5', 'o9_1', 'o9_2', 'o9_3', 'o9_4','o5_1', 'o5_2', 'o5_3', 'o6_1', 'o6_2', 'o6_3', 'o7_1', 'o7_2', 'o7_3', 'o7_4', 'conv']]"
   ]
  },
  {
   "cell_type": "code",
   "execution_count": null,
   "id": "d4ccc5b1-5c10-4065-b4cb-3c652308b271",
   "metadata": {},
   "outputs": [],
   "source": [
    "df_corr.T"
   ]
  },
  {
   "cell_type": "code",
   "execution_count": null,
   "id": "f617e3c1-f269-4df1-b38b-d4900c4f836b",
   "metadata": {},
   "outputs": [],
   "source": []
  }
 ],
 "metadata": {
  "kernelspec": {
   "display_name": "Python 3 (ipykernel)",
   "language": "python",
   "name": "python3"
  },
  "language_info": {
   "codemirror_mode": {
    "name": "ipython",
    "version": 3
   },
   "file_extension": ".py",
   "mimetype": "text/x-python",
   "name": "python",
   "nbconvert_exporter": "python",
   "pygments_lexer": "ipython3",
   "version": "3.10.6"
  }
 },
 "nbformat": 4,
 "nbformat_minor": 5
}
