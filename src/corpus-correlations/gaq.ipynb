{
 "cells": [
  {
   "cell_type": "markdown",
   "id": "2b591e38-6175-483f-a7b2-96bd15cdb9e7",
   "metadata": {},
   "source": [
    "### This file computes the correlation metrics of the appropriateness corpus and the GAQCorpus (not in the paper)"
   ]
  },
  {
   "cell_type": "code",
   "execution_count": null,
   "id": "49f84412-5c6c-4a3e-abc1-f4137a7de36d",
   "metadata": {},
   "outputs": [],
   "source": [
    "import pandas as pd\n",
    "import numpy as np\n",
    "from scipy import stats\n",
    "pd.set_option('display.max_colwidth', None)"
   ]
  },
  {
   "cell_type": "code",
   "execution_count": null,
   "id": "54cc755f-f25d-4e3e-b570-cc0dba6c10cb",
   "metadata": {},
   "outputs": [],
   "source": [
    "data_dir = '../../data/'"
   ]
  },
  {
   "cell_type": "code",
   "execution_count": null,
   "id": "834e6d40-cdff-45e4-b162-6f301d33f550",
   "metadata": {},
   "outputs": [],
   "source": [
    "df_qa = pd.read_csv(data_dir+'GAQCorpus_split/qa_forums_mixtrain_overlaptest_crowdtest.csv')\n",
    "df_debate = pd.read_csv(data_dir+'GAQCorpus_split/debate_forums_mixtrain_overlaptest_crowdtest.csv')\n",
    "df_review = pd.read_csv(data_dir+'GAQCorpus_split/review_forums_mixtrain_overlaptest_crowdtest.csv')\n",
    "df_sources = pd.read_csv(data_dir+'appropriateness-corpus/annotation_dataset_types_sourceids.csv')\n",
    "df_appropriateness = pd.read_csv(data_dir+'appropriateness-corpus/appropriateness_corpus_mean.csv')\n",
    "df_gaq = pd.concat([df_qa,df_debate,df_review])"
   ]
  },
  {
   "cell_type": "code",
   "execution_count": null,
   "id": "715a1b84-f8c8-43e3-80cf-372964e7aac4",
   "metadata": {},
   "outputs": [],
   "source": [
    "df_appropriateness['source_id'] = df_sources['id'].tolist()"
   ]
  },
  {
   "cell_type": "code",
   "execution_count": null,
   "id": "fed84fa5-1891-49b1-aa14-907a88b56e17",
   "metadata": {},
   "outputs": [],
   "source": [
    "df_appropriateness = df_appropriateness[df_appropriateness['source_id'].isin(df_gaq['id'].tolist())]"
   ]
  },
  {
   "cell_type": "code",
   "execution_count": null,
   "id": "4f170e4f-0818-4e80-8d4e-710b8b6e16f7",
   "metadata": {},
   "outputs": [],
   "source": [
    "df_gaq.sort_values('id', inplace=True)"
   ]
  },
  {
   "cell_type": "code",
   "execution_count": null,
   "id": "90d18e89-fc0f-4c36-969f-77cb3de9cb61",
   "metadata": {},
   "outputs": [],
   "source": [
    "df_appropriateness.sort_values('source_id', inplace=True)"
   ]
  },
  {
   "cell_type": "code",
   "execution_count": null,
   "id": "2b72c764-47a1-4ad2-902d-95069f4f090d",
   "metadata": {},
   "outputs": [],
   "source": [
    "rel_dims_gaq = ['overall_mean','cogency_mean','effectiveness_mean','reasonableness_mean']\n",
    "rel_dims_appropriateness = ['Inappropriateness', 'Toxic Emotions', 'Excessive Intensity', 'Emotional Deception', 'Missing Commitment', 'Missing Seriousness', 'Missing Openness', 'Missing Intelligibility', 'Unclear Meaning', 'Missing Relevance', 'Confusing Reasoning', 'Other Reasons', 'Detrimental Orthography', 'Reason Unclassified']"
   ]
  },
  {
   "cell_type": "code",
   "execution_count": null,
   "id": "a246010a-2855-4534-9b8c-4dd3e2755281",
   "metadata": {},
   "outputs": [],
   "source": [
    "corr_dict = {\n",
    "    'rel_dims_gaq': rel_dims_gaq, \n",
    "    'Inappropriateness': [],\n",
    "    'Toxic Emotions': [],\n",
    "    'Excessive Intensity': [],\n",
    "    'Emotional Deception': [],\n",
    "    'Missing Commitment': [],\n",
    "    'Missing Seriousness': [],\n",
    "    'Missing Openness': [],\n",
    "    'Missing Intelligibility': [],\n",
    "    'Unclear Meaning': [],\n",
    "    'Missing Relevance': [],\n",
    "    'Confusing Reasoning': [],\n",
    "    'Other Reasons': [],\n",
    "    'Detrimental Orthography': [],\n",
    "    'Reason Unclassified': [],\n",
    "}\n",
    "\n",
    "for rel_dim_gaq in rel_dims_gaq:\n",
    "    for rel_dim_appropriateness in rel_dims_appropriateness:\n",
    "        x1 = df_gaq[rel_dim_gaq].tolist()\n",
    "        x2 = df_appropriateness[rel_dim_appropriateness].tolist()\n",
    "        tau, p_value = stats.kendalltau(x1, x2)\n",
    "        #tau, p_value = stats.weightedtau(x1, x2, rank=None)\n",
    "        #print((rel_dim_dagstuhl, rel_dim_appropriateness))\n",
    "        #print((np.round(tau,4), np.round(p_value,4)))\n",
    "        #print('-'*50)\n",
    "        corr_dict[rel_dim_appropriateness].append(np.round(tau,2))"
   ]
  },
  {
   "cell_type": "code",
   "execution_count": null,
   "id": "854bbaad-bb86-4351-bcc5-4d804aca6f39",
   "metadata": {},
   "outputs": [],
   "source": [
    "df_corr = pd.DataFrame(corr_dict).T"
   ]
  },
  {
   "cell_type": "code",
   "execution_count": null,
   "id": "a8d236b9-0e8d-4080-84b4-a78d333d420f",
   "metadata": {},
   "outputs": [],
   "source": [
    "df_corr"
   ]
  },
  {
   "cell_type": "code",
   "execution_count": null,
   "id": "acf80f16-eb36-4453-9f62-165593337114",
   "metadata": {},
   "outputs": [],
   "source": [
    "df_corr.T"
   ]
  },
  {
   "cell_type": "code",
   "execution_count": null,
   "id": "8d8c3e5d-3db3-4ed1-bb7e-fc98a8fe1611",
   "metadata": {},
   "outputs": [],
   "source": []
  }
 ],
 "metadata": {
  "kernelspec": {
   "display_name": "Python 3 (ipykernel)",
   "language": "python",
   "name": "python3"
  },
  "language_info": {
   "codemirror_mode": {
    "name": "ipython",
    "version": 3
   },
   "file_extension": ".py",
   "mimetype": "text/x-python",
   "name": "python",
   "nbconvert_exporter": "python",
   "pygments_lexer": "ipython3",
   "version": "3.10.6"
  }
 },
 "nbformat": 4,
 "nbformat_minor": 5
}
