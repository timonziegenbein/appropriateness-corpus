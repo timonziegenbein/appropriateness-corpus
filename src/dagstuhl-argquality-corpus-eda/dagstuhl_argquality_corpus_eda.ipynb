{
 "cells": [
  {
   "cell_type": "markdown",
   "metadata": {},
   "source": [
    "### This file prints the arguments that co-occur with appropriateness in the Dagstuhl corpus (used for Venn diagramms in the paper)"
   ]
  },
  {
   "cell_type": "code",
   "execution_count": null,
   "metadata": {
    "id": "WXhsDEV-BPB1"
   },
   "outputs": [],
   "source": [
    "import pandas as pd\n",
    "import statistics\n",
    "pd.set_option('display.max_colwidth', None)"
   ]
  },
  {
   "cell_type": "code",
   "execution_count": null,
   "metadata": {},
   "outputs": [],
   "source": [
    "data_dir = '../../data/'"
   ]
  },
  {
   "cell_type": "code",
   "execution_count": null,
   "metadata": {
    "id": "7SesuMwrBXA3"
   },
   "outputs": [],
   "source": [
    "df = pd.read_csv(data_dir+'dagstuhl-15512-argquality-corpus-v2/dagstuhl-15512-argquality-corpus-annotated.csv', sep='\\t', encoding='1254')"
   ]
  },
  {
   "cell_type": "code",
   "execution_count": null,
   "metadata": {
    "id": "SSAa1_F86Can"
   },
   "outputs": [],
   "source": [
    "encoding_dict = {'1 (Low)': 1, '2 (Average)': 2, '3 (High)': 3, 'Cannot judge': 1.5}"
   ]
  },
  {
   "cell_type": "code",
   "execution_count": null,
   "metadata": {
    "id": "WRaAnzk061rI"
   },
   "outputs": [],
   "source": [
    "df = df.applymap(lambda x: encoding_dict[x] if x in encoding_dict else x)"
   ]
  },
  {
   "cell_type": "code",
   "execution_count": null,
   "metadata": {
    "id": "XRCHFQaJHS1K"
   },
   "outputs": [],
   "source": [
    "rel_dims = list(set(df.columns)-set(['annotator', 'argumentative', 'argument', '#id', 'issue', 'stance']))"
   ]
  },
  {
   "cell_type": "code",
   "execution_count": null,
   "metadata": {
    "colab": {
     "base_uri": "https://localhost:8080/"
    },
    "executionInfo": {
     "elapsed": 389,
     "status": "ok",
     "timestamp": 1645020793475,
     "user": {
      "displayName": "Timon Gurcke",
      "photoUrl": "https://lh3.googleusercontent.com/a-/AOh14GhsydKDFHqqcJwsbGWOFIUsLh6eMRI-mq30PTFodg=s64",
      "userId": "03098274551084197067"
     },
     "user_tz": -60
    },
    "id": "_ZGNMj4sGdGc",
    "outputId": "58906cce-9bff-4660-d3dd-87605534955f"
   },
   "outputs": [],
   "source": [
    "### Create the Dagstuhl corpus as reported in their paper based on the annotations and check the length aligns with what is reported in the paper\n",
    "ids_to_keep = []\n",
    "for id in df['#id'].unique():\n",
    "    tmp_df = df[df['#id']==id]\n",
    "    if (tmp_df['argumentative'] == 'y').all():\n",
    "        ids_to_keep.append(id)\n",
    "        \n",
    "assert(len(list(set(ids_to_keep)))==304)\n",
    "\n",
    "df=df[df['#id'].isin(ids_to_keep)]\n",
    "df.drop('annotator',axis=1,inplace=True)\n",
    "df[['#id','argument','issue']+rel_dims].groupby(['#id','argument','issue']).median().columns\n",
    "new_df = df[['#id','argument','issue']+rel_dims].groupby(['#id','argument','issue']).mean()"
   ]
  },
  {
   "cell_type": "code",
   "execution_count": null,
   "metadata": {
    "id": "BWGVMwb5LaeR"
   },
   "outputs": [],
   "source": [
    "### Check that the counts align with what is reported in the paper\n",
    "df['global relevance'].value_counts()"
   ]
  },
  {
   "cell_type": "code",
   "execution_count": null,
   "metadata": {
    "colab": {
     "base_uri": "https://localhost:8080/"
    },
    "executionInfo": {
     "elapsed": 67,
     "status": "ok",
     "timestamp": 1644229396869,
     "user": {
      "displayName": "Timon Gurcke",
      "photoUrl": "https://lh3.googleusercontent.com/a-/AOh14GhsydKDFHqqcJwsbGWOFIUsLh6eMRI-mq30PTFodg=s64",
      "userId": "03098274551084197067"
     },
     "user_tz": -60
    },
    "id": "-CSZ4RgTLOJQ",
    "outputId": "efa193b7-b10f-4456-d31c-8db00b1a1232"
   },
   "outputs": [],
   "source": [
    "### Print the low quality overlapping arguments for the rhetoric sub-dimensions according to the Venn diagramms\n",
    "print('[Appropriateness] and [Arrangement]')\n",
    "for value in [values[1] for values in new_df.loc[['71821','arg118660']].index]:\n",
    "    print(value)\n",
    "    print('')\n",
    "print('-'*50)\n",
    "print('[Appropriateness] and [Credibility]')\n",
    "for value in [values[1] for values in new_df.loc[['389','79734']].index]:\n",
    "    print(value)\n",
    "    print('')\n",
    "print('-'*50)\n",
    "print('[Appropriateness] and [Credibility] and [Arrangement]')\n",
    "for value in [values[1] for values in new_df.loc[['12580','28498','33187','arg135637','arg202607','arg35720','arg399268']].index]:\n",
    "    print(value)\n",
    "    print('')\n",
    "print('-'*50)\n",
    "print('[Appropriateness] and [Clarity] and [Arrangement]')\n",
    "for value in [values[1] for values in new_df.loc[['13259','arg33243']].index]:\n",
    "    print(value)\n",
    "    print('')\n",
    "print('-'*50)\n",
    "print('[Appropriateness] and [Credibility] and [Clarity]')\n",
    "for value in [values[1] for values in new_df.loc[['1191878965']].index]:\n",
    "    print(value)\n",
    "    print('')\n",
    "print('-'*50)\n",
    "print('[Appropriateness] and [Credibility] and [Clarity] and [Arrangement]')\n",
    "for value in [values[1] for values in new_df.loc[['arg132199','arg168836','arg200133','arg231770','arg33082','arg33293','arg37974','arg596217','arg660921']].index]:\n",
    "    print(value)\n",
    "    print('')\n",
    "print('-'*50)\n",
    "print('[Appropriateness] and [Credibility] and [Emotional Appea] and [Arrangement]')\n",
    "for value in [values[1] for values in new_df.loc[['12430','12466','822','arg108968','arg240625','arg485419']].index]:\n",
    "    print(value)\n",
    "    print('')\n",
    "print('-'*50)\n",
    "print('[Appropriateness] and [Credibility] and [Emotional Appea] and [Clarity] and [Arrangement]')\n",
    "for value in [values[1] for values in new_df.loc[['13993','415','65125','65191','69708','76359','arg126374','arg132483','arg212151','arg219268','arg231620','arg317750','arg334924','arg525686']].index]:\n",
    "    print(value)\n",
    "    print('')\n",
    "print('-'*50)"
   ]
  },
  {
   "cell_type": "code",
   "execution_count": null,
   "metadata": {
    "colab": {
     "base_uri": "https://localhost:8080/"
    },
    "executionInfo": {
     "elapsed": 469,
     "status": "ok",
     "timestamp": 1644229397288,
     "user": {
      "displayName": "Timon Gurcke",
      "photoUrl": "https://lh3.googleusercontent.com/a-/AOh14GhsydKDFHqqcJwsbGWOFIUsLh6eMRI-mq30PTFodg=s64",
      "userId": "03098274551084197067"
     },
     "user_tz": -60
    },
    "id": "r94EEdgsOnvD",
    "outputId": "9b4f6903-8c6a-4fa4-a28b-2e82e08a4faf"
   },
   "outputs": [],
   "source": [
    "### Print the low quality arguments for for the rhetoric sub-dimensions that occur in isolation according to the Venn diagramms\n",
    "print('[Clarity]')\n",
    "for value in [values[1] for values in new_df.loc[['arg168779','arg203922','arg230691','arg33123','arg33135','arg35650','arg39274']].index]:\n",
    "    print(value)\n",
    "    print('')\n",
    "print('-'*50)\n",
    "\n",
    "print('[Credibility]')\n",
    "for value in [values[1] for values in new_df.loc[['12414','28068','30529','33506','33757','390','530','73596','76758','arg108959','arg118518','arg122478','arg123380','arg126375','arg33069','arg33105','arg33226','arg33285','arg33341','arg334943','arg335030','arg335089','arg335091','arg335097','arg335129','arg336563','arg345997','arg399270','arg439197']].index]:\n",
    "    print(value)\n",
    "    print('')\n",
    "print('-'*50)\n",
    "\n",
    "print('[Arrangement]')\n",
    "for value in [values[1] for values in new_df.loc[['14007','1683','54474','69016','arg110967','arg135702','arg168818','arg168835','arg200706','arg213296','arg219227','arg260899','arg312577','arg33060','arg33099','arg33118','arg33119','arg33143','arg33284','arg336179','arg542561','arg580842','arg649666']].index]:\n",
    "    print(value)\n",
    "    print('')\n",
    "print('-'*50)\n",
    "\n",
    "print('[Emotional Appea]')\n",
    "for value in [values[1] for values in new_df.loc[['12567','13260','74039','80854','814','arg219245','arg219250','arg219258','arg229241','arg335090']].index]:\n",
    "    print(value)\n",
    "    print('')\n",
    "print('-'*50)"
   ]
  },
  {
   "cell_type": "code",
   "execution_count": null,
   "metadata": {},
   "outputs": [],
   "source": []
  }
 ],
 "metadata": {
  "colab": {
   "authorship_tag": "ABX9TyMvhPGcI4FMpOqUFNnP59br",
   "collapsed_sections": [
    "8ozgOagCcGOk"
   ],
   "name": "Untitled19.ipynb",
   "provenance": []
  },
  "kernelspec": {
   "display_name": "Python 3 (ipykernel)",
   "language": "python",
   "name": "python3"
  },
  "language_info": {
   "codemirror_mode": {
    "name": "ipython",
    "version": 3
   },
   "file_extension": ".py",
   "mimetype": "text/x-python",
   "name": "python",
   "nbconvert_exporter": "python",
   "pygments_lexer": "ipython3",
   "version": "3.7.12"
  }
 },
 "nbformat": 4,
 "nbformat_minor": 4
}
